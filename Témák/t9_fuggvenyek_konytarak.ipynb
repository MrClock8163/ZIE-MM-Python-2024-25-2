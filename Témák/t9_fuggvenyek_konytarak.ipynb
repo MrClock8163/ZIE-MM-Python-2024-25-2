{
 "cells": [
  {
   "cell_type": "markdown",
   "metadata": {},
   "source": [
    "# Függvények és könyvtárak"
   ]
  },
  {
   "cell_type": "markdown",
   "metadata": {},
   "source": [
    "## Függvények (functions)\n",
    "- segítenek a programok felbontásában egybefüggő logikai részekre\n",
    "- többször felhasználható utasítás sorozatok\n",
    "- adott bemenő értékek alapján állítanak elő kimenő értékeket\n",
    "  - ha van mindkettő: függvény (function)\n",
    "  - ha nincs kimenet (esetleg bemenet se): eljárás (procedure, subroutine)\n",
    "  - ha objektumon definiált: metódus (method)\n",
    "  - a nevezék nem kőbe vésett, szokás és programnyelv függő is\n",
    "  - összefoglalva \"hívhatók\" (callables)\n",
    "\n",
    "### Hagyományos definíciók"
   ]
  },
  {
   "cell_type": "code",
   "execution_count": null,
   "metadata": {},
   "outputs": [],
   "source": [
    "def print_separator(): # legegyszerűbb függvény fejléc, nincs bemeneti paraméter\n",
    "    print(\"====================\") # végrehajtandő utasítások\n",
    "print_separator() # eljárás hívása\n",
    "\n",
    "def print_type(var): # függvény fejléc bemeneti paraméterrel\n",
    "    print(type(var), var)\n",
    "print_type(23)\n",
    "\n",
    "def power(a, b = 2): # függvény fejléc kötelező és opcionális bemeneti paraméterrel\n",
    "    result = a ** b\n",
    "    return result # visszatérési érték\n",
    "\n",
    "a = power(2, 10)\n",
    "print(a)"
   ]
  },
  {
   "cell_type": "markdown",
   "metadata": {},
   "source": [
    "- egymásba ágyazhatók (nesting)\n",
    "  - saját magát is hívhatja -> rekurzió"
   ]
  },
  {
   "cell_type": "code",
   "execution_count": null,
   "metadata": {},
   "outputs": [],
   "source": [
    "def factorial(n):\n",
    "    if n < 2:\n",
    "        return 1\n",
    "    \n",
    "    return n * factorial(n - 1)\n",
    "\n",
    "factorial(5)"
   ]
  },
  {
   "cell_type": "markdown",
   "metadata": {},
   "source": [
    "- a definíciók maguk is változók, így változóként tovább is adhatók"
   ]
  },
  {
   "cell_type": "code",
   "execution_count": null,
   "metadata": {},
   "outputs": [],
   "source": [
    "def call(func):\n",
    "    func() # paraméterként beadott függvény hívása (ha mégsem hívható a paraméter, akkor kivételt okoz)\n",
    "\n",
    "print(type(call))\n",
    "print(type(print_separator))\n",
    "\n",
    "call(print_separator)"
   ]
  },
  {
   "cell_type": "markdown",
   "metadata": {},
   "source": [
    "- mivel változók, függvényen belül is lehet alfüggvényt definiálni\n",
    "  - alapvetően kerülendő\n",
    "  - rontja az olvashatóságot\n",
    "  - csak speciális esetekben\n",
    "  - ezek csak az adott függvényben elérhetők"
   ]
  },
  {
   "cell_type": "code",
   "execution_count": null,
   "metadata": {},
   "outputs": [],
   "source": [
    "def main():\n",
    "    def sub_start():\n",
    "        print(\"==== Eljaras elje ====\")\n",
    "    \n",
    "    def sub_end():\n",
    "        print(\"==== Eljaras vege ====\")\n",
    "    \n",
    "    sub_start()\n",
    "\n",
    "    print(\"Valami hosszu\")\n",
    "    print(\"Valami fontos\")\n",
    "    print(\"Valami amit mindenkeppen fel akartunk bontani\")\n",
    "\n",
    "    sub_end()\n",
    "\n",
    "main()"
   ]
  },
  {
   "cell_type": "markdown",
   "metadata": {},
   "source": [
    "#### Argumentum típusok\n",
    "\n",
    "- helyhez kötött argumentumok (positional arguments)\n",
    "  - sorrendet követve\n",
    "- kulcsszavas argumentumok (keyword arguments)\n",
    "  - tetszőleges sorrendben\n",
    "- alapból minden argumentum megadható mindkét módon"
   ]
  },
  {
   "cell_type": "code",
   "execution_count": null,
   "metadata": {},
   "outputs": [],
   "source": [
    "def func_positional(arg1, arg2, arg3):\n",
    "    print(f\"Argumentum 1: {arg1}\")\n",
    "    print(f\"Argumentum 2: {arg2}\")\n",
    "    print(f\"Argumentum 3: {arg3}\")\n",
    "\n",
    "func_positional(\"a\", \"b\", \"c\")\n",
    "func_positional(arg2=\"b\", arg3=\"c\", arg1=\"a\")"
   ]
  },
  {
   "cell_type": "markdown",
   "metadata": {},
   "source": [
    "- opcionális argumentumok (optional arguments)\n",
    "  - csak a kötelezők után"
   ]
  },
  {
   "cell_type": "code",
   "execution_count": null,
   "metadata": {},
   "outputs": [],
   "source": [
    "def func_optional(arg1, arg2, arg3 = \"c\"):\n",
    "    print(f\"Argumentum 1: {arg1}\")\n",
    "    print(f\"Argumentum 2: {arg2}\")\n",
    "    print(f\"Argumentum 3: {arg3}\")\n",
    "\n",
    "func_optional(\"a\", \"b\")"
   ]
  },
  {
   "cell_type": "markdown",
   "metadata": {},
   "source": [
    "- előírható megadási mód\n",
    "  - `/`: előtte csak helyhez kötött megadás lehet\n",
    "  - `/` és `*`: közöttük mind kettő megengedett\n",
    "  - `*`: utána csak kulcsszavas"
   ]
  },
  {
   "cell_type": "code",
   "execution_count": null,
   "metadata": {},
   "outputs": [],
   "source": [
    "def func_mixed(arg1, /, arg2, *, arg3):\n",
    "    print(f\"Argumentum 1: {arg1}\")\n",
    "    print(f\"Argumentum 2: {arg2}\")\n",
    "    print(f\"Argumentum 3: {arg3}\")\n",
    "\n",
    "func_mixed(\"a\", \"b\", arg3=\"c\")\n",
    "func_mixed(\"a\", arg2=\"b\", arg3=\"c\")"
   ]
  },
  {
   "cell_type": "markdown",
   "metadata": {},
   "source": [
    "#### Gyűjtő argumentumok\n",
    "\n",
    "- több megadott érték összegyűjtése egyetlen argumentum változóba\n",
    "- jól használható tetszőleges számű argumentum és opcionális argumentumok kezelésére\n",
    "- helyhezkötött"
   ]
  },
  {
   "cell_type": "code",
   "execution_count": null,
   "metadata": {},
   "outputs": [],
   "source": [
    "def func_wildcard_position(*args):\n",
    "    print(args) # megadott értékek tuple-be gyűjtve\n",
    "\n",
    "func_wildcard_position(2, 3, 4, 5, 6)"
   ]
  },
  {
   "cell_type": "markdown",
   "metadata": {},
   "source": [
    "- kulcsszavas"
   ]
  },
  {
   "cell_type": "code",
   "execution_count": null,
   "metadata": {},
   "outputs": [],
   "source": [
    "def func_wildcard_keyword(**kwargs):\n",
    "    print(kwargs) # megadott értékek szótárba gyűjtve\n",
    "\n",
    "func_wildcard_keyword(arg1=1, arg2=2, arg3=3)"
   ]
  },
  {
   "cell_type": "markdown",
   "metadata": {},
   "source": [
    "- minden megoldás kombinálható is"
   ]
  },
  {
   "cell_type": "code",
   "execution_count": null,
   "metadata": {},
   "outputs": [],
   "source": [
    "def func_complex(arg1, arg2, *args, arg3, arg4, **kwargs):\n",
    "    print(f\"Argumentum 1: {arg1}\")\n",
    "    print(f\"Argumentum 2: {arg2}\")\n",
    "    print(f\"Argumentum 3: {arg3}\")\n",
    "    print(f\"Argumentum 4: {arg4}\")\n",
    "    print(f\"Osszegyujtott helyhezkotott: {args}\")\n",
    "    print(f\"Osszegyujtott kulcsszavas: {kwargs}\")\n",
    "\n",
    "func_complex(11, 12, 13, 14, 15, arg3=16, arg4=17, arg5=18, arg6=19)"
   ]
  },
  {
   "cell_type": "markdown",
   "metadata": {},
   "source": [
    "### Lambda függvények\n",
    "\n",
    "- egyszerű kifejezések\n",
    "- egysorosak\n",
    "- általában összehasonlítások, vagy matematikai műveletek"
   ]
  },
  {
   "cell_type": "code",
   "execution_count": null,
   "metadata": {},
   "outputs": [],
   "source": [
    "def add_func(a, b):\n",
    "    return a + b\n",
    "\n",
    "add_lambda = lambda a, b: a + b\n",
    "\n",
    "# a két függvény funkcionálisan megegyezik\n",
    "print(add_func(2, 3))\n",
    "print(add_lambda(2, 3))\n",
    "\n",
    "# példa lambda függvény haszbálatára\n",
    "numbers = list(range(10))\n",
    "print(numbers)\n",
    "numbers_squared = list(map(lambda n: n ** 2, numbers))\n",
    "print(numbers_squared)"
   ]
  },
  {
   "cell_type": "markdown",
   "metadata": {},
   "source": [
    "## Könyvtárak (module, library)\n",
    "\n",
    "- összetartozó definíciók (függvények és típusok) és adatok gyűjteményei\n",
    "- többféle módon lehet hozzájuk jutni\n",
    "  - lokális saját könyvtár\n",
    "  - internetes könyvtár nyilvántartásból letöltve (https://pypi.org/)\n",
    "\n",
    "```sh\n",
    "pip install numpy\n",
    "```\n",
    "- használathoz először importálni kell őket\n",
    "  - javasolt az importálásokat a script legelején megtenni"
   ]
  },
  {
   "cell_type": "code",
   "execution_count": null,
   "metadata": {},
   "outputs": [],
   "source": [
    "import math\n",
    "\n",
    "print(math.sqrt(2))"
   ]
  },
  {
   "cell_type": "markdown",
   "metadata": {},
   "source": [
    "- az importált modulok átnevezhetők"
   ]
  },
  {
   "cell_type": "code",
   "execution_count": null,
   "metadata": {},
   "outputs": [],
   "source": [
    "import math as m\n",
    "\n",
    "m.pow(2, 1.5)"
   ]
  },
  {
   "cell_type": "markdown",
   "metadata": {},
   "source": [
    "- lehet a könyvtár csak bizonyos elemeit is importálni"
   ]
  },
  {
   "cell_type": "code",
   "execution_count": null,
   "metadata": {},
   "outputs": [],
   "source": [
    "from math import ceil, floor\n",
    "\n",
    "print(ceil(2.5))\n",
    "print(floor(2.5))"
   ]
  }
 ],
 "metadata": {
  "kernelspec": {
   "display_name": "Python 3",
   "language": "python",
   "name": "python3"
  },
  "language_info": {
   "codemirror_mode": {
    "name": "ipython",
    "version": 3
   },
   "file_extension": ".py",
   "mimetype": "text/x-python",
   "name": "python",
   "nbconvert_exporter": "python",
   "pygments_lexer": "ipython3",
   "version": "3.13.1"
  }
 },
 "nbformat": 4,
 "nbformat_minor": 2
}
