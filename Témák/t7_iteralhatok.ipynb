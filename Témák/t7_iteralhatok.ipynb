{
 "cells": [
  {
   "cell_type": "markdown",
   "metadata": {},
   "source": [
    "# Iterálható típusok\n",
    "\n",
    "## Iterálhatóság != indexelhetőség"
   ]
  },
  {
   "cell_type": "code",
   "execution_count": null,
   "metadata": {},
   "outputs": [],
   "source": [
    "var1 = [0, 1, 2, 3, 4, 5] # listák iterálhatók és indexelhetők is\n",
    "for i in var1:\n",
    "    print(i)\n",
    "print(var1[1])\n",
    "\n",
    "print(\"====\")\n",
    "var2 = range(6) # range szintén\n",
    "for i in var2:\n",
    "    print(i)\n",
    "print(var2[1])\n",
    "\n",
    "print(\"====\")\n",
    "var3 = iter(var1) # iterátor típusok nem indexelhetők\n",
    "# print(var3[1]) # kivétel\n",
    "for i in var3:\n",
    "    print(i)\n",
    "\n",
    "print(\"====\")\n",
    "var4 = { # szótárak kulcsai iterálhatók, de nem indexelhetők\n",
    "    \"key1\": \"item1\",\n",
    "    \"key2\": \"item2\",\n",
    "    \"key3\": \"item3\"\n",
    "}\n",
    "for key in var4:\n",
    "    print(key)\n",
    "# print(var4.keys()[1]) # kivétel\n",
    "\n",
    "print(\"====\")\n",
    "var5 = {1, 2, 3, 4, 5}\n",
    "for i in var5:\n",
    "    print(i)\n",
    "# print(var5[1]) # kivétel"
   ]
  },
  {
   "cell_type": "markdown",
   "metadata": {},
   "source": [
    "## Iterátor függvények\n",
    "\n",
    "- több iterálható változó párhuzamos léptetése"
   ]
  },
  {
   "cell_type": "code",
   "execution_count": null,
   "metadata": {},
   "outputs": [],
   "source": [
    "num1 = range(0, 5)\n",
    "num2 = range(5, 10)\n",
    "\n",
    "for i, j in zip(num1, num2):\n",
    "    print(f\"{i} - {j}\")\n",
    "\n",
    "print(\"====\")\n",
    "for i, j in zip(num1, range(0, 3)): # az iterálás addig megy, amíg a rövidebb változó végére nem ér\n",
    "    print(f\"{i} - {j}\")\n",
    "\n",
    "print(\"====\")\n",
    "num3 = iter(list(range(6)))\n",
    "for i, j in zip(num3, num3): # páros hosszú változó elemeinek elérése párosával\n",
    "    print(f\"{i} - {j}\")"
   ]
  },
  {
   "cell_type": "markdown",
   "metadata": {},
   "source": [
    "## Generátorok\n",
    "\n",
    "- iterátor típus\n",
    "- egysoros definíció egyszerű szűréssel"
   ]
  },
  {
   "cell_type": "code",
   "execution_count": null,
   "metadata": {},
   "outputs": [],
   "source": [
    "gen1 = (i for i in range(20) if i % 2 == 0)\n",
    "for i in gen1:\n",
    "    print(i)"
   ]
  },
  {
   "cell_type": "markdown",
   "metadata": {},
   "source": [
    "- függvény alakú definíció"
   ]
  },
  {
   "cell_type": "code",
   "execution_count": null,
   "metadata": {},
   "outputs": [],
   "source": [
    "def only_multiples(iterable, num):\n",
    "    for e in iterable:\n",
    "        if type(e) is int and e % num == 0:\n",
    "            yield e\n",
    "\n",
    "for i in only_multiples(range(20), 2):\n",
    "    print(i)"
   ]
  },
  {
   "cell_type": "markdown",
   "metadata": {},
   "source": [
    "- nem számítják ki előre az egész adatsort, mindig csak az aktuális elemet\n",
    "- jól használhatók a memóriába nem férő sorozatok előállítására"
   ]
  },
  {
   "cell_type": "code",
   "execution_count": null,
   "metadata": {},
   "outputs": [],
   "source": [
    "def infinite_squares():\n",
    "    num = 0\n",
    "    while True:\n",
    "        yield num ** 2\n",
    "        num += 1\n",
    "\n",
    "for i, s in zip(range(20), infinite_squares()): # csak az első 20 elem léptetése a végtelen ciklus elkerülése végett\n",
    "    print(f\"{i}: {s}\")"
   ]
  }
 ],
 "metadata": {
  "kernelspec": {
   "display_name": "Python 3",
   "language": "python",
   "name": "python3"
  },
  "language_info": {
   "codemirror_mode": {
    "name": "ipython",
    "version": 3
   },
   "file_extension": ".py",
   "mimetype": "text/x-python",
   "name": "python",
   "nbconvert_exporter": "python",
   "pygments_lexer": "ipython3",
   "version": "3.13.1"
  }
 },
 "nbformat": 4,
 "nbformat_minor": 2
}
