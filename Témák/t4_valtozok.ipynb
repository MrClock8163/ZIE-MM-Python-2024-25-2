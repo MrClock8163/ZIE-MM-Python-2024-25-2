{
 "cells": [
  {
   "cell_type": "markdown",
   "metadata": {},
   "source": [
    "# Változók és adattípusok\n",
    "\n",
    "- dinamikus típusosság (dynamically typed)\n",
    "- változók kvázi csak referenciák\n",
    "- automatikus memória kezelés (garbage collection)"
   ]
  },
  {
   "cell_type": "markdown",
   "metadata": {},
   "source": [
    "```c\n",
    "// Példa memória kezelésre C-ben\n",
    "\n",
    "int a; // változó létrehozása\n",
    "a = 2; // változó inicializálása értékadással\n",
    "\n",
    "int b = 2; // automatikusan kezelt (stack) változó létrehozása és inicializálása egy lépésben\n",
    "int* c = b*; // referencia\n",
    "long* d = (long*)malloc(sizeof(long)); // kézzel kezelt (heap) változó\n",
    "free(d); // kézzel kezelt memória feloldása\n",
    "```"
   ]
  },
  {
   "cell_type": "code",
   "execution_count": null,
   "metadata": {},
   "outputs": [],
   "source": [
    "# Változó létrehozása és értékadása\n",
    "\n",
    "a = 2 # egyszerű értékadás, nem lehet egyszerre kifejezés is\n",
    "print(b := 3) # értékadó kifejezés, visszaadja az értéket is (Python 3.8 után)"
   ]
  },
  {
   "cell_type": "markdown",
   "metadata": {},
   "source": [
    "## Alap adattípusok"
   ]
  },
  {
   "cell_type": "code",
   "execution_count": 79,
   "metadata": {},
   "outputs": [],
   "source": [
    "v_int = 2 # egész szám (integer)\n",
    "v_float = 2.5 # tizedestört (double)\n",
    "v_bool = True # logikai érték (boolean)\n",
    "v_str_1 = \"string\" # karakterlánc (string)\n",
    "v_str_2 = 'string' # ugyanaz a karakterlánc"
   ]
  },
  {
   "cell_type": "markdown",
   "metadata": {},
   "source": [
    "### Számok (numeric)\n",
    "\n",
    "Python több féle számábrázolást is támogat a nyelv szerves részeként. Többek között egész, lebegőpontos tört és komplex számokat is.\n",
    "\n",
    "#### Egész számok (integer)"
   ]
  },
  {
   "cell_type": "code",
   "execution_count": null,
   "metadata": {},
   "outputs": [],
   "source": [
    "print(92) # Tizes alapú\n",
    "print(0b1011100) # Bináris\n",
    "print(0x5c) # Hexadecimális\n",
    "print(0o134) # Oktális"
   ]
  },
  {
   "cell_type": "markdown",
   "metadata": {},
   "source": [
    "#### Komplex számok (complex)"
   ]
  },
  {
   "cell_type": "code",
   "execution_count": null,
   "metadata": {},
   "outputs": [],
   "source": [
    "print(2j)"
   ]
  },
  {
   "cell_type": "markdown",
   "metadata": {},
   "source": [
    "#### Lebegőpontos tizedestörtek (floating point)\n",
    "\n",
    "Normálalakos és értékes jegyre történő ábrázolás kombinációja.\n",
    "\n",
    "Például a 93,2-t írhatjuk `9.32e1`-ként (9,32 * 10^1). Hasonlóan működnek a lebegőpontos számok is, csak binárisan.\n",
    "\n",
    "Alapvetően három elterjedt verziója van ennek az ábrázolásnak:\n",
    "- fél pontosságú (half precision, röviden `half` vagy `minifloat`): 16bit\n",
    "- szimpla pontosságú (single precision, röviden `single` vagy `float`): 32bit\n",
    "- dupla pontosságú (double preicison, röviden `double`˙): 64 bit\n",
    "\n",
    "Python 3 a doupla pontosságú változatot használja a standard könyvtárban."
   ]
  },
  {
   "cell_type": "code",
   "execution_count": null,
   "metadata": {},
   "outputs": [],
   "source": [
    "print(93.2) # Tizedes ábrázolás\n",
    "print(9.32e1) # Exponenciális ábrázolás\n",
    "print(932e-1)"
   ]
  },
  {
   "cell_type": "markdown",
   "metadata": {},
   "source": [
    "Gondok a lebegőpontos számokkal:\n",
    "- diszkrét számok, valójában nem folytonos számábrázolás -> kerekítési hibák\n",
    "- nullától távolodva folyamatosan növekszik a \"lyuk\" két szomszédos ábrázolható tört szám között\n",
    "- kis és nagy számok nem keverhetők (1.00000000000000001 nem ábrázolható) -> pontosságvesztés\n",
    "- \"kiesés\" (nagy szám + nagyon kis szám = ugyanaz a nagy szám) -> ne akarjunk odométert írni lebegőpontos törtekkel (32bit-es MATLAB példa)\n",
    "\n",
    "Klasszikus példa:"
   ]
  },
  {
   "cell_type": "code",
   "execution_count": null,
   "metadata": {},
   "outputs": [],
   "source": [
    "print(3 * 0.1 == 0.3)"
   ]
  },
  {
   "cell_type": "markdown",
   "metadata": {},
   "source": [
    "Vajon mi történik itt?\n",
    "\n",
    "https://www.h-schmidt.net/FloatConverter/IEEE754.html\n",
    "\n",
    "### Logikai értékek (boolean)"
   ]
  },
  {
   "cell_type": "code",
   "execution_count": null,
   "metadata": {},
   "outputs": [],
   "source": [
    "True\n",
    "False"
   ]
  },
  {
   "cell_type": "markdown",
   "metadata": {},
   "source": [
    "Sok programnyelvben a logikai értékek valójában számok. Tipikusan False = 0 és True pedig minden más szám. Python-ban csak és kizárólag `True == 1` és `False == 0`."
   ]
  },
  {
   "cell_type": "code",
   "execution_count": null,
   "metadata": {},
   "outputs": [],
   "source": [
    "print(False == 0)\n",
    "print(False == -1)\n",
    "print(True == 1)\n",
    "print(True == 2)"
   ]
  },
  {
   "cell_type": "markdown",
   "metadata": {},
   "source": [
    "Ugyanakkor itt is minden szám ami nem 0 \"igazkásnak\" (truthy) számít, a 0 maga pedig \"hamiskás\" (falsy)."
   ]
  },
  {
   "cell_type": "code",
   "execution_count": null,
   "metadata": {},
   "outputs": [],
   "source": [
    "print(bool(0))\n",
    "print(bool(1))\n",
    "print(bool(-1))"
   ]
  },
  {
   "cell_type": "markdown",
   "metadata": {},
   "source": [
    "### Szöveges értékek (strings)\n",
    "\n",
    "Szöveges értékeket karakterláncként lehet tárolni. A karaktereket idézőjelek (`\"`) vagy aposztrófok (`'`) közé kell tenni."
   ]
  },
  {
   "cell_type": "code",
   "execution_count": null,
   "metadata": {},
   "outputs": [],
   "source": [
    "v_str_3 = \"sumting\" # konvenció szerint szövegekhez\n",
    "v_str_4 = 'sumting' # kovenció szerint szöveges azonosítókhoz\n",
    "print(v_str_3 == v_str_4) # igaz"
   ]
  },
  {
   "cell_type": "markdown",
   "metadata": {},
   "source": [
    "A karakterlánc viselkedését lehet módosítani a lánc elé írt speciális karakterekkel. Ilyen karakterek:\n",
    "- `r`: nyers (raw) karakterlánc (nem kerülnek \"értelmezésre\" a speciális karakterek jelölései)\n",
    "- `u`: unicode karakterlánc (Python 3-ban felesleges, minden karakterlánc alapból unicode)\n",
    "- `b`: byte lánc ([ASCII tábla](https://en.wikipedia.org/wiki/ASCII))\n",
    "- `f`: szövegformázási minta"
   ]
  },
  {
   "cell_type": "code",
   "execution_count": null,
   "metadata": {},
   "outputs": [],
   "source": [
    "print(\"Van\\n sortörés\")\n",
    "print(r\"Nincs\\n sortörés\")\n",
    "print(u\"Ugyan olyan mint egy sima string Python 3-ban\")\n",
    "print(b\"\\x45\\x7a\\x20\\x65\\x67\\x79\\x20\\x73\\x7a\\x6f\\x76\\x65\\x67\\x2c\\x20\\x64\\x65\\x20\\x6b\\x61\\x72\\x61\\x6b\\x74\\x65\\x72\\x6b\\x6f\\x64\\x6f\\x6b\\x6b\\x61\\x6c\\x20\\x72\\x65\\x70\\x72\\x65\\x7a\\x65\\x6e\\x74\\x61\\x6c\\x76\\x61\")\n",
    "print(f\"Behelyettesítés: {v_str_3}\")"
   ]
  },
  {
   "cell_type": "markdown",
   "metadata": {},
   "source": [
    "## Összetett adattípusok"
   ]
  },
  {
   "cell_type": "code",
   "execution_count": 89,
   "metadata": {},
   "outputs": [],
   "source": [
    "v_list = [True, 2, 3, \"negy\", [\"ot\", 6]] # lista (list)\n",
    "v_tuple = (True, 2, 3, \"negy\", (\"ot\", 6)) # tuple\n",
    "v_dict = {\"ertek1\": True, \"ertek2\": 2, \"ertek3\": 3, \"ertek4\": \"negy\"} # szótár (dictionary)\n",
    "v_set = {True, 2, 3, \"negy\"} # halmaz (set)"
   ]
  },
  {
   "cell_type": "markdown",
   "metadata": {},
   "source": [
    "### Listák (list)\n",
    "\n",
    "- egyik leggyakoribb összetett/gyűjtő adattípus\n",
    "- bármennyi és bármilyen adatot tartalmazhat\n",
    "- lehetnek ismétlések\n",
    "- tetszés szerint bővíthető"
   ]
  },
  {
   "cell_type": "code",
   "execution_count": null,
   "metadata": {},
   "outputs": [],
   "source": [
    "v_list.append(7.0) # egyetlen elem hozzáfűzése (létező listához helyben)\n",
    "print(v_list)\n",
    "\n",
    "v_list.extend([0b1000, 0b1001]) # kibővítés másik lista elemeivel (létező lista bővítése helyben)\n",
    "print(v_list)\n",
    "\n",
    "print(v_list + ['tíz', 'tizenegy']) # listák összefűzése új listába\n",
    "print(v_list) # ez nem változott helyben"
   ]
  },
  {
   "cell_type": "markdown",
   "metadata": {},
   "source": [
    "- elemek elérése indexxeléssel (0-tól kezdődik)\n",
    "  - első elem\n",
    "  - utolső elem\n",
    "  - több elem egyszerre (slicing)"
   ]
  },
  {
   "cell_type": "code",
   "execution_count": null,
   "metadata": {},
   "outputs": [],
   "source": [
    "print(v_list[0]) # első elem\n",
    "print(v_list[len(v_list) - 1]) # utolsó elem\n",
    "print(v_list[-1]) # utolsó elem egyszerűbben\n",
    "print(v_list[1:4]) # 1-től a 3. elemig"
   ]
  },
  {
   "cell_type": "markdown",
   "metadata": {},
   "source": [
    "- elemek változtatása indexeléssel"
   ]
  },
  {
   "cell_type": "code",
   "execution_count": null,
   "metadata": {},
   "outputs": [],
   "source": [
    "v_list[-1] = 11\n",
    "print(v_list)"
   ]
  },
  {
   "cell_type": "markdown",
   "metadata": {},
   "source": [
    "### Tuple\n",
    "\n",
    "- lényegében ugyanaz mint a lista\n",
    "- nem módosítható a létrehozás után"
   ]
  },
  {
   "cell_type": "code",
   "execution_count": 93,
   "metadata": {},
   "outputs": [],
   "source": [
    "# v_tuple[3] = 4 # kivételt okoz"
   ]
  },
  {
   "cell_type": "markdown",
   "metadata": {},
   "source": [
    "### Szótárak (dictionary)\n",
    "\n",
    "- kulcs-érték párok\n",
    "- majdnem bármi lehet a kulcs\n",
    "  - legyen érvényes hash a kulcsra (általában változtatható adattípusok nem jók)\n",
    "  - érdemes egységes típust tartani\n",
    "  - egyedi kulcsok"
   ]
  },
  {
   "cell_type": "code",
   "execution_count": null,
   "metadata": {},
   "outputs": [],
   "source": [
    "v_dict_new = {\n",
    "    \"key1\": \"valami\",\n",
    "    \"key2\": \"mas valami\",\n",
    "    \"key3\": {\n",
    "        \"subkey1\": \"beagyazott konyvtar\",\n",
    "        \"subkey2\": 2\n",
    "    }\n",
    "}\n",
    "print(v_dict_new)"
   ]
  },
  {
   "cell_type": "markdown",
   "metadata": {},
   "source": [
    "- bővíthető"
   ]
  },
  {
   "cell_type": "code",
   "execution_count": null,
   "metadata": {},
   "outputs": [],
   "source": [
    "v_dict_new[\"key4\"] = 42 # új kulcs beszúrása vagy létező felülírása\n",
    "print(v_dict_new)\n",
    "\n",
    "v_dict_new.update({ # szótár frissítése másik szótár elemeivel (felülírás és beszúrás is lehet egyszerre)\n",
    "    \"key1\": \"semmi\",\n",
    "    \"key5\": 1138\n",
    "})\n",
    "print(v_dict_new)"
   ]
  },
  {
   "cell_type": "markdown",
   "metadata": {},
   "source": [
    "- elemek elérése a kulccsal (indexxelés alapesetben nem működik, de megoldható ha muszáj)"
   ]
  },
  {
   "cell_type": "code",
   "execution_count": null,
   "metadata": {},
   "outputs": [],
   "source": [
    "print(v_dict_new[\"key3\"]) # egyszerű lekérdezés\n",
    "print(v_dict_new[\"key3\"][\"subkey1\"]) # lánccolt elérés\n",
    "# v_dict_new[\"key6\"] # kivételt okoz ha nincs\n",
    "\n",
    "print(v_dict_new.get(\"key6\", \"NULL\")) # lekérdezés alapértelmezett értékkel (ha nem biztos, hogy a kulcs létezik)"
   ]
  },
  {
   "cell_type": "markdown",
   "metadata": {},
   "source": [
    "### Halmazok (set)\n",
    "\n",
    "- hashelhető értékeket tartalmazhat\n",
    "- nincsenek ismétlések\n",
    "- halmazműveletek (unió, metszet, különbség, stb.)\n",
    "- az egész halmaz iterálható, de az egyes elemek nem elérhetők"
   ]
  },
  {
   "cell_type": "code",
   "execution_count": 97,
   "metadata": {},
   "outputs": [],
   "source": [
    "# v_set[0] # kivételt okoz"
   ]
  },
  {
   "cell_type": "markdown",
   "metadata": {},
   "source": [
    "- szükség szerint módosítható"
   ]
  },
  {
   "cell_type": "code",
   "execution_count": null,
   "metadata": {},
   "outputs": [],
   "source": [
    "v_set.add(\"5\") # hozzáadás ha még nincs benne\n",
    "print(v_set)\n",
    "\n",
    "v_set.add(\"negy\") # ismétlések nem okoznak kivételt, de nem változtatják a halmazt\n",
    "print(v_set)\n",
    "\n",
    "v_set.remove(\"negy\") # elem eltávolítása"
   ]
  }
 ],
 "metadata": {
  "kernelspec": {
   "display_name": "Python 3",
   "language": "python",
   "name": "python3"
  },
  "language_info": {
   "codemirror_mode": {
    "name": "ipython",
    "version": 3
   },
   "file_extension": ".py",
   "mimetype": "text/x-python",
   "name": "python",
   "nbconvert_exporter": "python",
   "pygments_lexer": "ipython3",
   "version": "3.13.1"
  }
 },
 "nbformat": 4,
 "nbformat_minor": 2
}
