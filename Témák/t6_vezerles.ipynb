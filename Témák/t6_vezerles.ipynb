{
 "cells": [
  {
   "cell_type": "markdown",
   "metadata": {},
   "source": [
    "# Vezérlési szerkezetek (control flow)\n",
    "\n",
    "- a program alapból fentről lefele fut\n",
    "- vezérlési szerkezetekkel ez megtörhető\n",
    "- négy alapvető szerkezet\n",
    "  - feltételes elágazás\n",
    "  - feltételes ciklus\n",
    "  - számlálós ciklus\n",
    "  - minta illesztés\n",
    "- hiba kezelés és függvények is ide kapcsolódnak\n",
    "\n",
    "## Elágazás (if statement)\n",
    "\n",
    "- összetett esetek kezelése\n",
    "- döntés a futási értékek alapján\n",
    "\n",
    "### Egyágú (IF)"
   ]
  },
  {
   "cell_type": "code",
   "execution_count": null,
   "metadata": {},
   "outputs": [],
   "source": [
    "a = 4\n",
    "b = 3\n",
    "if a > 3: # logikai feltétel\n",
    "    print(a) # futtatandó, ha a feltétel IGAZ"
   ]
  },
  {
   "cell_type": "markdown",
   "metadata": {},
   "source": [
    "### Kétágú (IF-ELSE)"
   ]
  },
  {
   "cell_type": "code",
   "execution_count": null,
   "metadata": {},
   "outputs": [],
   "source": [
    "if a > b:\n",
    "    print(a) # futtatandó, ha a feltétel IGAZ\n",
    "else:\n",
    "    print(b) # futtatandó, ha a feltétel HAMIS"
   ]
  },
  {
   "cell_type": "markdown",
   "metadata": {},
   "source": [
    "### Összetett (IF-ELSEIF-ELSE)\n",
    "\n",
    "- tetszőleges számú alternatív feltétel\n",
    "- nem tanácsos túlzásba esni\n",
    "- mindig az első IGAZ feltétel fog érvényesülni"
   ]
  },
  {
   "cell_type": "code",
   "execution_count": null,
   "metadata": {},
   "outputs": [],
   "source": [
    "if a > b:\n",
    "    print(a) # futtatandó, ha a feltétel IGAZ\n",
    "elif a < b:\n",
    "    print(b) # futtatandó, ha a első feltétel HAMIS, de a második IGAZ\n",
    "else:\n",
    "    print(\"egyenlok\") # futtatandó, ha minden feltétel HAMIS"
   ]
  },
  {
   "cell_type": "markdown",
   "metadata": {},
   "source": [
    "## Feltételes ciklus (while loop)\n",
    "\n",
    "- két fő fajta\n",
    "  - elöltesztelő (WHILE-DO) <- Python-ban beépítve csak ez van\n",
    "    - a feltétel minden iteráció előtt kiértékelődik\n",
    "    - csak akkor fut, ha a feltétel igaz\n",
    "    - lehet egyszer sem fut le a test\n",
    "  - hátultesztelő (DO-WHILE)\n",
    "    - a feltétel az iterációk után kerül kiértékelésre\n",
    "    - csak akkor ismétel, ha a feltétel igaz\n",
    "    - egyszer mindenképpen lefut a test\n",
    "- akkor érdemes használni, ha nem tudjuk előre a szükséges ismétlések számát "
   ]
  },
  {
   "cell_type": "code",
   "execution_count": null,
   "metadata": {},
   "outputs": [],
   "source": [
    "c = 4\n",
    "d = 3\n",
    "while c > d:\n",
    "    d += 1\n",
    "print(d)"
   ]
  },
  {
   "cell_type": "markdown",
   "metadata": {},
   "source": [
    "- a ciklus feltételét körültekintően kell megadni, különben végtelen ciklust okozhatunk\n",
    "\n",
    "```py\n",
    "while True:\n",
    "    c += 1\n",
    "\n",
    "```\n",
    "- szükség esetén a WHILE-DO és DO-WHILE formák egymásba átírhatók"
   ]
  },
  {
   "cell_type": "code",
   "execution_count": null,
   "metadata": {},
   "outputs": [],
   "source": [
    "while True: # látszólag végtelen ciklus\n",
    "    d += 1\n",
    "    if c <= d: # kilépési feltétel\n",
    "        break # ciklus megtörése"
   ]
  },
  {
   "cell_type": "markdown",
   "metadata": {},
   "source": [
    "## Számlálós ciklus (for loop)\n",
    "\n",
    "- két fő fajta\n",
    "  - FOR\n",
    "  - FOR-EACH\n",
    "- több nyelvben csak a WHILE-DO egy szintaktikai változata\n",
    "- érdemes használni, ha szükséges ismétlések száma ismert\n",
    "- Python-ban csak FOR-EACH van, ami nem egy számlálót léptet, hanem egy iterálható típus elemein lépked végig"
   ]
  },
  {
   "cell_type": "code",
   "execution_count": null,
   "metadata": {},
   "outputs": [],
   "source": [
    "for i in [3, 1, 34, 4, \"kilenc\", [True, False]]:\n",
    "    print(i)"
   ]
  },
  {
   "cell_type": "markdown",
   "metadata": {},
   "source": [
    "- sima FOR is szimulálható, ha kell"
   ]
  },
  {
   "cell_type": "code",
   "execution_count": null,
   "metadata": {},
   "outputs": [],
   "source": [
    "for i in range(10):\n",
    "    print(i)"
   ]
  },
  {
   "cell_type": "markdown",
   "metadata": {},
   "source": [
    "- iterációs index alapból nem elérhető, de van rá segéd függvény"
   ]
  },
  {
   "cell_type": "code",
   "execution_count": null,
   "metadata": {},
   "outputs": [],
   "source": [
    "for i, n in enumerate([2, 9, 3, 65, 12,3, 1]):\n",
    "    print(f\"{i}: {n}\")"
   ]
  },
  {
   "cell_type": "markdown",
   "metadata": {},
   "source": [
    "- egysoros verzióban használható iterálható típusok generálására (list, dict, set comprehension)\n",
    "  - összetett típusoknál működik\n",
    "    - lista\n",
    "    - könyvtár\n",
    "    - halmaz\n",
    "  - tuplenél **NEM** lehet\n",
    "  - megegyezik a generátor szintaxissal (erről később bővebben)"
   ]
  },
  {
   "cell_type": "code",
   "execution_count": null,
   "metadata": {},
   "outputs": [],
   "source": [
    "v_list_comp = [i for i in range(10)]\n",
    "print(v_list_comp)\n",
    "\n",
    "v_dict_comp = {f\"key{i}\": i + 1 for i in range(10)}\n",
    "print(v_dict_comp)\n",
    "\n",
    "v_set_comp = {i for i in range(10)}\n",
    "print(v_set_comp)"
   ]
  },
  {
   "cell_type": "markdown",
   "metadata": {},
   "source": [
    "## Minta illesztés (switch statement/pattern matching)\n",
    "\n",
    "- összetett elágazáshoz hasonló, de máshogy működik\n",
    "- jól használható sok, ismert érték lehetőség kezelésére\n",
    "- általában jobb teljesítményű, mint mondjuk 5-10 összefűzött elágazás\n",
    "- csak Python 3.10 után"
   ]
  },
  {
   "cell_type": "code",
   "execution_count": null,
   "metadata": {},
   "outputs": [],
   "source": [
    "fruit = \"apple\"\n",
    "\n",
    "match fruit:\n",
    "    case \"apple\":\n",
    "        print(\"Ez egy alma\")\n",
    "    case \"banana\":\n",
    "        print(\"Ez egy banan\")\n",
    "    case \"cucumber\" | \"potato\":\n",
    "        print(\"Ez egy zoldseg\")\n",
    "    case _:\n",
    "        print(\"Nem tudom mi ez\")"
   ]
  }
 ],
 "metadata": {
  "kernelspec": {
   "display_name": "Python 3",
   "language": "python",
   "name": "python3"
  },
  "language_info": {
   "codemirror_mode": {
    "name": "ipython",
    "version": 3
   },
   "file_extension": ".py",
   "mimetype": "text/x-python",
   "name": "python",
   "nbconvert_exporter": "python",
   "pygments_lexer": "ipython3",
   "version": "3.13.1"
  }
 },
 "nbformat": 4,
 "nbformat_minor": 2
}
