{
 "cells": [
  {
   "cell_type": "markdown",
   "metadata": {},
   "source": [
    "# Adatbevitel és fájlműveletek\n",
    "\n",
    "- lehetőség interaktív bevitelre\n",
    "- nem kell állandóan a programot direktbe módosítani\n",
    "\n",
    "## Interaktív bevitel\n",
    "\n",
    "- része a standard könyvtárnak\n",
    "- beolvasás a STDIN-ről"
   ]
  },
  {
   "cell_type": "code",
   "execution_count": null,
   "metadata": {},
   "outputs": [],
   "source": [
    "in1 = input()\n",
    "print(in1)\n",
    "\n",
    "in2 = input(\"Felhasznalo: \")\n",
    "print(in2)"
   ]
  },
  {
   "cell_type": "markdown",
   "metadata": {},
   "source": [
    "- a beolvasás mindig karakterláncot eredményez"
   ]
  },
  {
   "cell_type": "code",
   "execution_count": null,
   "metadata": {},
   "outputs": [],
   "source": [
    "print(in1)\n",
    "print(in2)"
   ]
  },
  {
   "cell_type": "markdown",
   "metadata": {},
   "source": [
    "- ha más értéke típust (pl.: egész szám) várunk, akkor konvertálni kell"
   ]
  },
  {
   "cell_type": "code",
   "execution_count": null,
   "metadata": {},
   "outputs": [],
   "source": [
    "in3 = int(input(\"Irj be egy egesz szamot: \"))\n",
    "print(type(in3), in3)"
   ]
  },
  {
   "cell_type": "markdown",
   "metadata": {},
   "source": [
    "- le kell kezelni, ha nem jó a bemenet (pl.: ha egész számot várunk, de a felhasználó szöveget írt be)"
   ]
  },
  {
   "cell_type": "code",
   "execution_count": null,
   "metadata": {},
   "outputs": [],
   "source": [
    "int(input(\"Irj be valamit: \")) # ha szöveget írunk be és megpróbáljuk számmá alakítani, akkor kivételt kapunk"
   ]
  },
  {
   "cell_type": "markdown",
   "metadata": {},
   "source": [
    "- ha jelszót, vagy egyéb érzékeny értéket kell bekérni, akkor érdemes a `getpass`-t használni\n",
    "  - más belső eljárást használ, mint `input`\n",
    "  - nem jeleníti meg a beírt értéket a terminálban"
   ]
  },
  {
   "cell_type": "code",
   "execution_count": null,
   "metadata": {},
   "outputs": [],
   "source": [
    "from getpass import getpass\n",
    "\n",
    "in4 = getpass(\"Jelszo: \")\n",
    "print(in4) # csak a demostráció kedvéért itt kiírjuk, de egyébként ne tegyünk ilyet"
   ]
  },
  {
   "cell_type": "markdown",
   "metadata": {},
   "source": [
    "## Fájlok kezelése\n",
    "\n",
    "- szöveges vagy bináris fájlok is\n",
    "- írás és olvasás is\n",
    "  - alapértelmezetten\n",
    "    - olvasás\n",
    "    - szöveges\n",
    "    - utf-8 kódolás"
   ]
  },
  {
   "cell_type": "code",
   "execution_count": 5,
   "metadata": {},
   "outputs": [],
   "source": [
    "file = open(\"teszt.txt\", \"wt\") # megnyitás írásra, \"wt\": write text\n",
    "file.close() # fájl bezárása és feloldása más programok számára"
   ]
  },
  {
   "cell_type": "markdown",
   "metadata": {},
   "source": [
    "- ha a fájlt elfelejtjük lezárni előfordul, hogy a program befejezéséig más programok nem férnek hozzá a fájlhoz rendesen (pl.: nem lehet törölni)\n",
    "- javasolt a `with` szerkezet használata\n",
    "  - automatikusan bezárja a fájlt a blokk végén\n",
    "  - akkor is lezár még a program kilépése előtt, ha a blokk testében kivétel történt és emiatt a program kilép"
   ]
  },
  {
   "cell_type": "code",
   "execution_count": 6,
   "metadata": {},
   "outputs": [],
   "source": [
    "with open(\"teszt.txt\", \"wt\") as file:\n",
    "    pass"
   ]
  },
  {
   "cell_type": "markdown",
   "metadata": {},
   "source": [
    "### Fájl elérési utak (paths)\n",
    "\n",
    "- a szintek elválasztása operációs rendszer függő\n",
    "  - `/`: Linux és UNIX (újabban Windows is elfogadja)\n",
    "  - `\\`: Windows\n",
    "- lehet visszalépni is: `..`\n",
    "  - `C:\\users\\public\\documents\\..\\desktop` -> `C:\\users\\public\\desktop`\n",
    "\n",
    "#### Abszolút\n",
    "\n",
    "- mindig a gyökértől kezdődnek\n",
    "  - Linux: `/`\n",
    "  - Windows: `C:\\` vagy valamelyik másik meghajtó\n",
    "\n",
    "#### Relatív\n",
    "\n",
    "- relatív a terminál jelenlegi munkakönyvtárához (current working directory)\n",
    "  - a munkakönyvtár nem feltétlenül egyezik meg a jelenleg futtatott program mappájával\n",
    "  \n",
    "```bash\n",
    "# Példa különböző fájl- és munkakönyvtárra\n",
    "C:\\users\\public\\documents>\n",
    "C:\\users\\public\\documents>python ..\\desktop\\progs\\program.py # programhívás a terminálban\n",
    "C:\\users\\public\\documents>\n",
    "# Munkakönyvtár: C:\\users\\public\\documents\n",
    "# Relatív címzéssel egy szomszédos könyvtárból indítjuk el a programot.\n",
    "# Program abszolút helye: C:\\users\\public\\desktop\\progs\\program.py\n",
    "```\n",
    "- ha mindenképp a fájl könyvtárában lévő másik fájlt akarjuk elérni, akkor vagy figyelni kell, hogy megfelelő legyen a munkakönyvtár, vagy a programot úgy kell megírni, hogy lekezelje a problémát (pl.: `os` modul segítségével)"
   ]
  },
  {
   "cell_type": "markdown",
   "metadata": {},
   "source": [
    "### Szöveg írása\n",
    "\n",
    "- módok\n",
    "  - `w`: létrehozás és írás (felülírás ha már létezik)\n",
    "  - `w+`: létrehozás és irás-olvasás (felülírás ha már létezik)\n",
    "  - `a`: létező fájl megnyitás és folytatása (létrehozás ha még nem létezik)"
   ]
  },
  {
   "cell_type": "code",
   "execution_count": 9,
   "metadata": {},
   "outputs": [],
   "source": [
    "with open(\"teszt_szoveg.txt\", \"w\") as file:\n",
    "    file.write(\"Ez itt az elso sor\\n\")\n",
    "    file.write(\"Ez itt a masodik sor\\n\")\n",
    "\n",
    "with open(\"teszt_szoveg.txt\", \"a\") as file:\n",
    "    file.write(\"Ez itt a harmadik sor\\n\")"
   ]
  },
  {
   "cell_type": "markdown",
   "metadata": {},
   "source": [
    "### Szöveg olvasása\n",
    "\n",
    "- módok\n",
    "  - `r`: olvasás (kivétel ha még nem létezik)\n",
    "  - `r+`: olvasás-írás"
   ]
  },
  {
   "cell_type": "code",
   "execution_count": null,
   "metadata": {},
   "outputs": [],
   "source": [
    "with open(\"teszt_szoveg.txt\", \"r\") as file:\n",
    "    for line in file: # olvasás soronként (sorvégi újsor karakterek nincsenek levágva)\n",
    "        print(line.strip())\n",
    "\n",
    "with open(\"teszt_szoveg.txt\", \"r\") as file:\n",
    "    lines = file.readlines() # olvasás egyben, később \"feldolgozva\" (sorvégi újsor karakterek nincsenek levágva)\n",
    "\n",
    "for line in lines:\n",
    "    print(line.strip())"
   ]
  },
  {
   "cell_type": "markdown",
   "metadata": {},
   "source": [
    "### Bináris adatok írása\n",
    "\n",
    "- adatkezelés byte egységekben\n",
    "- byte láncok\n",
    "- adatokat kódolni kell\n",
    "  - https://docs.python.org/3/library/struct.html#format-characters\n"
   ]
  },
  {
   "cell_type": "code",
   "execution_count": null,
   "metadata": {},
   "outputs": [],
   "source": [
    "import struct\n",
    "\n",
    "with open(\"teszt_binaris.bin\", \"wb\") as file: # megnyitás írásra, \"wb\": write binary\n",
    "    file.write(b\"\\x00\") # 0 byte\n",
    "    file.write(\"{0:<70s}\".format(\"valami 70 karakternel rovidebb csak latin karakteres szoveg\").encode(\"ascii\")) # ASCII kódolt szöveg 70 karakteres mezőben\n",
    "    file.write(struct.pack(\"<I\", 231)) # little-endian előjel nélküli 32bit-es egész szám\n",
    "    file.write(struct.pack(\"<f\", 2.42)) # little-endian 32bit-es lebegőpontos szám"
   ]
  },
  {
   "cell_type": "markdown",
   "metadata": {},
   "source": [
    "### Bináris adatok olvasása\n",
    "\n",
    "- ismerni kell a fájl byte szintű szerkezetét"
   ]
  },
  {
   "cell_type": "code",
   "execution_count": null,
   "metadata": {},
   "outputs": [],
   "source": [
    "with open(\"teszt_binaris.bin\", \"rb\") as file:\n",
    "    print(file.read(1))\n",
    "    print(file.read(70).decode(\"ascii\"))\n",
    "    print(struct.unpack(\"<I\", file.read(4))[0])\n",
    "    print(struct.unpack(\"<f\", file.read(4))[0])"
   ]
  }
 ],
 "metadata": {
  "kernelspec": {
   "display_name": "Python 3",
   "language": "python",
   "name": "python3"
  },
  "language_info": {
   "codemirror_mode": {
    "name": "ipython",
    "version": 3
   },
   "file_extension": ".py",
   "mimetype": "text/x-python",
   "name": "python",
   "nbconvert_exporter": "python",
   "pygments_lexer": "ipython3",
   "version": "3.13.1"
  }
 },
 "nbformat": 4,
 "nbformat_minor": 2
}
