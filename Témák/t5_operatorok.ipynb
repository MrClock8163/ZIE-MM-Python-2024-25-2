{
 "cells": [
  {
   "cell_type": "markdown",
   "metadata": {},
   "source": [
    "# Operátorok (operators)\n",
    "\n",
    "- más néven műveleti jelek\n",
    "- öt fő csoport\n",
    "  - matematikai\n",
    "  - relációs\n",
    "  - logikai\n",
    "  - bináris\n",
    "  - típus specifikus\n",
    "- műveleti sorrend fontos\n",
    "  - zárójelekkel módosítható/egyértelműsíthető\n",
    "  - https://docs.python.org/3/reference/expressions.html#operator-precedence\n",
    "\n",
    "## Matematikai (arithmetic)\n",
    "\n",
    "- számot adnak eredményül"
   ]
  },
  {
   "cell_type": "code",
   "execution_count": null,
   "metadata": {},
   "outputs": [],
   "source": [
    "print(2 + 3) # összeadás\n",
    "print(2 - 3) # kivonás\n",
    "print(2 * 3) # szorzás\n",
    "print(2 / 3) # osztás\n",
    "print(4 // 3) # egész osztás\n",
    "print(4 % 3) # modulo, osztás maradék\n",
    "print(2 ** 3) # hatványozás\n",
    "print(-(-2)) # negálás"
   ]
  },
  {
   "cell_type": "markdown",
   "metadata": {},
   "source": [
    "- támogatott még a `@` jel a mátrix szorzáshoz\n",
    "  - standard könyvtár nem implementálja\n",
    "  - NumPy könyvtárral elérhető"
   ]
  },
  {
   "cell_type": "markdown",
   "metadata": {},
   "source": [
    "## Relációs (comparison)\n",
    "\n",
    "- logikai eredményt adnak"
   ]
  },
  {
   "cell_type": "code",
   "execution_count": null,
   "metadata": {},
   "outputs": [],
   "source": [
    "print(2 > 3) # nagyobb\n",
    "print(2 < 3) # kisebbb\n",
    "print(2 >= 3) # nagyobb vagy egyenlő\n",
    "print(2 <= 3) # kisebb vagy egyenlő\n",
    "print(2 == 3) # egyenlő\n",
    "print(2 != 3) # nem egyenlő"
   ]
  },
  {
   "cell_type": "markdown",
   "metadata": {},
   "source": [
    "## Logikal (boolean)\n",
    "\n",
    "- logikai eredményt adnak"
   ]
  },
  {
   "cell_type": "code",
   "execution_count": null,
   "metadata": {},
   "outputs": [],
   "source": [
    "print(not True) # logikai negálás\n",
    "print(True and False) # ÉS\n",
    "print(True or False) # VAGY"
   ]
  },
  {
   "cell_type": "markdown",
   "metadata": {},
   "source": [
    "- láncolhatók\n",
    "- mindig lusta/rövidrezárt kiértékelés\n",
    "  - a jobb oldali kifejezés nem kerül kiértékelésre, ha a bal oldal már önmagában is meghatározza az eredményt\n",
    "  - `ÉS` esetén a jobb oldal csak akkor számít, ha a bal oldal `IGAZ`\n",
    "  - `VAGY` esetén a jobb oldal csak akkor számít, ha a bal oldal `HAMIS`\n",
    "  - figyelni kell, ha függvényt akarunk tenni bele"
   ]
  },
  {
   "cell_type": "code",
   "execution_count": null,
   "metadata": {},
   "outputs": [],
   "source": [
    "print(True and False or True)"
   ]
  },
  {
   "cell_type": "markdown",
   "metadata": {},
   "source": [
    "## Bináris (bitwise)\n",
    "\n",
    "- számot adnak vissza"
   ]
  },
  {
   "cell_type": "code",
   "execution_count": null,
   "metadata": {},
   "outputs": [],
   "source": [
    "print(~4) # bitenkénti negálás\n",
    "print(4 << 1) # bit csúsztatás balra (kázi kettővel szorzás)\n",
    "print(4 >> 1) # bit csúsztatás jobbra (kvázi kettővel osztás)\n",
    "print(4 & 2) # bitenkénti ÉS\n",
    "print(4 | 2) # bitenkénti VAGY\n",
    "print(4 ^ 2) # bitenkénti KIZÁRÓLAGOS VAGY"
   ]
  },
  {
   "cell_type": "markdown",
   "metadata": {},
   "source": [
    "## Típus specifikus\n",
    "\n",
    "- bizonyos típusoknak vannak saját műveleteik\n",
    "  - vagy egyedi operátorral\n",
    "  - vagy egy másik operátor újrahasznosításával\n",
    "- szöveg műveletek"
   ]
  },
  {
   "cell_type": "code",
   "execution_count": null,
   "metadata": {},
   "outputs": [],
   "source": [
    "v_str_1 = \"elso szoveg\"\n",
    "v_str_2 = \"masodik szoveg\"\n",
    "print(v_str_1 + \" \" + v_str_2) # szövegek összefűzése (string concatenation)\n",
    "print(v_str_1 * 2) # szövegek ismételtetése"
   ]
  },
  {
   "cell_type": "markdown",
   "metadata": {},
   "source": [
    "- lista műveletek"
   ]
  },
  {
   "cell_type": "code",
   "execution_count": null,
   "metadata": {},
   "outputs": [],
   "source": [
    "v_list_1 = [1, 2, 3]\n",
    "v_list_2 = [4, 5, 6]\n",
    "print(v_list_1 + v_list_2) # listák összefűzése\n",
    "print(v_list_1 * 2) # listák ismételtetése"
   ]
  },
  {
   "cell_type": "markdown",
   "metadata": {},
   "source": [
    "- azonosság és tagság műveletek"
   ]
  },
  {
   "cell_type": "code",
   "execution_count": null,
   "metadata": {},
   "outputs": [],
   "source": [
    "v_list_3 = v_list_1\n",
    "print(v_list_1 is v_list_3) # mind a két változó ugyan arra a memória objektumra mutat\n",
    "\n",
    "print(2 in v_list_1)"
   ]
  },
  {
   "cell_type": "markdown",
   "metadata": {},
   "source": [
    "## Összevont értékadás\n",
    "\n",
    "- művelet és értékadás egy műveletben"
   ]
  },
  {
   "cell_type": "code",
   "execution_count": null,
   "metadata": {},
   "outputs": [],
   "source": [
    "a = 2\n",
    "a = a + 1\n",
    "a += 1 # megegyezik a fenti művelettel"
   ]
  },
  {
   "cell_type": "markdown",
   "metadata": {},
   "source": [
    "- matematikai és bináris operátorral is működik"
   ]
  },
  {
   "cell_type": "code",
   "execution_count": null,
   "metadata": {},
   "outputs": [],
   "source": [
    "b = 10\n",
    "print(b)\n",
    "b *= 2\n",
    "print(b)\n",
    "b //= 5\n",
    "print(b)\n",
    "b -= 2\n",
    "print(b)\n",
    "b **= 2\n",
    "print(b)\n",
    "b <<= 1\n",
    "print(b)"
   ]
  }
 ],
 "metadata": {
  "kernelspec": {
   "display_name": "Python 3",
   "language": "python",
   "name": "python3"
  },
  "language_info": {
   "codemirror_mode": {
    "name": "ipython",
    "version": 3
   },
   "file_extension": ".py",
   "mimetype": "text/x-python",
   "name": "python",
   "nbconvert_exporter": "python",
   "pygments_lexer": "ipython3",
   "version": "3.13.1"
  }
 },
 "nbformat": 4,
 "nbformat_minor": 2
}
